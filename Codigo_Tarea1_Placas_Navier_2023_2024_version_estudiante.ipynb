{
 "cells": [
  {
   "cell_type": "markdown",
   "id": "20b1d2bb-a483-4eea-b613-ffa2f6b94390",
   "metadata": {},
   "source": [
    "### <center>Amplicación de análisis de estructuras. Máster Universitario en Ingeniería de Caminos, Canales y Puertos. Universidad de Granada. Curso 2023-2024<center>"
   ]
  },
  {
   "cell_type": "markdown",
   "id": "325e5f91-8248-4bc1-bf30-4796721e8acf",
   "metadata": {},
   "source": [
    "# <center>Software para la resolución numérica del Problema de Placas Rectangulares mediante el Método de Navier.<center>"
   ]
  },
  {
   "cell_type": "markdown",
   "id": "173a9b1a-338e-4e71-8317-2053f90c1dc2",
   "metadata": {},
   "source": [
    "#### <center>Antonio Gomez. Marzo 2024<center>"
   ]
  },
  {
   "cell_type": "markdown",
   "id": "46c73b71-e49b-4cc0-9a39-b438f8d0b981",
   "metadata": {
    "tags": []
   },
   "source": [
    "Este script de Jupyter lab contiene una serie de algoritmos escritos en lenguaje Python para calcular y evaluar la flecha w(x,y) y los giros theta(x,y) mediante el método de Navier para poder resolver la tarea adjunta.\n",
    "\n",
    "Los casos disponibles de resolución son los de:\n",
    "- Carga uniforme distribuida de valor p.\n",
    "- Carga puntual de valor 1, es decir, la Función de Green del problema placa.\n",
    "- Carga puntual de valor F.\n",
    "- Momento flector Mx(y) distribuido en línea x = xi\n",
    "- Momento flector My(x) distribuido en línea y = eta\n",
    "\n",
    "Nota: use únicamente los casos que le sean relevantes para resolver la tarea.\n",
    "\n",
    "Adicionalmente, este script también permite el cálculo de:\n",
    "- Los términos Mm del desarrollo en serie de un momento flector distribuido Mx(y) fruto de empotrar los bordes x=0 y x=a.\n",
    "- Los términos Mn del desarrollo en serie de un momento flector distribuido My(x) fruto de empotrar los bordes y=0 e y=b.\n",
    "\n",
    "Complete con datos aquellas variables sin definir (verá que tienen puntos suspensivos). Tendrá que superponer flechas debidas a diferentes estados de carga para resolver las preguntas de la tarea (superponer flechas significa sumar matrices de flechas w_xy debidas a los diferentes estados de carga involucrados en tu caso)."
   ]
  },
  {
   "cell_type": "markdown",
   "id": "b51cab6e-e0f1-4f40-a3fb-3a6ef4e59abd",
   "metadata": {},
   "source": [
    "**Índice:**\n",
    "1. Importamos las librerías necesarias\n",
    "2. Datos de entrada\n",
    "3. Flecha y giros generados por una carga uniforme distribuida w<sub>p</sub>(x,y)\n",
    "4. Flecha generada por una carga puntual de valor 1 aplicada en un punto ($\\xi$,$\\eta$), es decir, la Función de Green del problema placa K(x,y;$\\xi$,$\\eta$)\n",
    "5. Cálculo de fuerza reactiva F de un pilar biarticulado bajo el punto central de la placa.\n",
    "6. Flecha generada por una carga puntual de valor F aplicada en un punto ($\\xi$,$\\eta$).\n",
    "7. Cálculo de momento flector My(x) en empotramientos de problema simétrico en $\\eta_1$ = 0 y $\\eta_2$ = b.\n",
    "8. Cálculo de momento flector Mx(y) en empotramientos de problema simétrico en $\\xi_1$ = 0 y $\\xi_2$ = a.\n",
    "9. Flecha generada por un momento flector Mx(y) distribuido en línea x = xi\n",
    "10. Flecha generada por un momento flector My(x) distribuido en línea y = eta"
   ]
  },
  {
   "cell_type": "markdown",
   "id": "25b6801f-cf92-45c3-af24-680578bb95ef",
   "metadata": {},
   "source": [
    "<br>"
   ]
  },
  {
   "cell_type": "markdown",
   "id": "e95af83d-3981-4ce2-9fce-bdf187e0942e",
   "metadata": {},
   "source": [
    "**1. Librerías necesarias**"
   ]
  },
  {
   "cell_type": "code",
   "execution_count": null,
   "id": "549ad681-4ddc-4d3b-b9bc-2eef5ec19b82",
   "metadata": {},
   "outputs": [],
   "source": [
    "import numpy as np\n",
    "import matplotlib.pyplot as plt"
   ]
  },
  {
   "cell_type": "markdown",
   "id": "3c9ebf98-88de-4c23-a611-f370b19eab74",
   "metadata": {},
   "source": [
    "<br>"
   ]
  },
  {
   "cell_type": "markdown",
   "id": "cbedd334-d465-4c22-9efe-8a540716cc9b",
   "metadata": {},
   "source": [
    "**2. Datos de entrada** (Unidades en el sistema internacional)"
   ]
  },
  {
   "cell_type": "code",
   "execution_count": null,
   "id": "79275d02-8f37-419f-8981-fd14175465ed",
   "metadata": {
    "tags": []
   },
   "outputs": [],
   "source": [
    "# Datos de la placa:\n",
    "a = ...\n",
    "b = ...\n",
    "h = ...\n",
    "rho = ...\n",
    "nu = ...\n",
    "Eplaca = ...\n",
    "I = h**3/12\n",
    "D = Eplaca*I/(1-nu**2)\n",
    "\n",
    "# Carga uniforme:\n",
    "p = ... #Cuidado, si la carga es hacia abajo hay que indicar signo negativo\n",
    "\n",
    "# Valores de discretización espacial\n",
    "dx = 2e-2\n",
    "dy = 2e-2\n",
    "\n",
    "# Datos del pilar biarticulado\n",
    "Lc = ... # longitud del pilar biarticulado\n",
    "Ec = ... # módulo elástico del material del pilar biarticulado\n",
    "Ac = ... # área de la sección transversal del pilar biarticulado\n",
    "\n",
    "# Recuerde que en Python, el primer elemento de un vector tiene indice 0. Igual en una matriz, donde su primer elemento es el (0,0)\n",
    "# Recuerda que puedes usar la función print() para ver el valor de alguna variable.\n",
    "# Puedes también usar la función np.shape() para ver el tamaño de matrices, o alternativamente la funcion np.size(\"matrix\",0), 0 para la dimensión filas y 1 para la dimensión 1.\n",
    "# La funcion len() para saber la longitud de un vector."
   ]
  },
  {
   "cell_type": "markdown",
   "id": "783be38b-5917-4d19-b221-f0bd97cdbd5f",
   "metadata": {
    "tags": []
   },
   "source": [
    "Discretización del dominio espacial de la placa"
   ]
  },
  {
   "cell_type": "code",
   "execution_count": null,
   "id": "d42e8362-c689-496a-9075-d37759687cc9",
   "metadata": {
    "tags": []
   },
   "outputs": [],
   "source": [
    "# Creamos dos vectores x e y, que contienen los valores discretos del espacio donde se evaluaran los cálculos\n",
    "x = np.arange(0, a+dx, dx) \n",
    "y = np.arange(0, b+dy, dy)\n",
    "\n",
    "# Creamos dos matrices X e Y, de forma que seleccionando el mismo elemento en cada una de ellas obtendremos la posición x,y de un punto cualquiera.\n",
    "X, Y = np.meshgrid(x, y)\n",
    "# Hacemos la traspuesta para que en las filas queden las coordenadas x, y en las columnas las coordenadas y.\n",
    "X = np.transpose(X)\n",
    "Y = np.transpose(Y)"
   ]
  },
  {
   "cell_type": "markdown",
   "id": "957af976-8e3d-4610-b39e-5241cceec0f3",
   "metadata": {},
   "source": [
    "Declaración de terminos de los sumatorios"
   ]
  },
  {
   "cell_type": "code",
   "execution_count": null,
   "id": "1144a775-11ae-47bc-b3e1-4c937aa2a4f7",
   "metadata": {},
   "outputs": [],
   "source": [
    "# Creamos dos vectores de enteros n y m, que contienen los valores maximos de los términos de los sumatorios\n",
    "nmax = ... # número máximo de términos n a evaluar (más términos implica más coste computacional)\n",
    "mmax = nmax\n",
    "n = np.arange(1,nmax+1,1) #vector de 1 a nmax con incrementos de 1\n",
    "m = np.arange(1,mmax+1,1) #vector de 1 a mmax con incrementos de 1\n",
    "\n",
    "# Creamos dos matrices N y M, de forma que seleccionando un mismo elemento en ambas tenemos una dupla n,m\n",
    "N, M = np.meshgrid(n, m)\n",
    "\n",
    "# Hacemos la traspuesta para que en las filas sean n y las columnas m.\n",
    "N = np.transpose(N)\n",
    "M = np.transpose(M)"
   ]
  },
  {
   "cell_type": "markdown",
   "id": "e29d5709-332d-4290-88ed-1e55f18986b6",
   "metadata": {},
   "source": [
    "Creamos una matriz con valores Fnm que podremos usar para todos los casos de carga"
   ]
  },
  {
   "cell_type": "code",
   "execution_count": null,
   "id": "fc5b50f8-535f-443e-8ad5-f2c9c65091c3",
   "metadata": {},
   "outputs": [],
   "source": [
    "Fnm = ((N/a)**2 + (M/b)**2)**2"
   ]
  },
  {
   "cell_type": "markdown",
   "id": "9febcadb-38a2-4889-8ce6-87338af6f043",
   "metadata": {},
   "source": [
    "<br>"
   ]
  },
  {
   "cell_type": "markdown",
   "id": "779a84e7-4f93-4902-9fe8-79260c014538",
   "metadata": {
    "tags": []
   },
   "source": [
    "**3. Flecha y giros generados por una carga uniforme distribuida w<sub>p</sub>(x,y)** (aquí denominada w_xy_p)"
   ]
  },
  {
   "cell_type": "code",
   "execution_count": null,
   "id": "d46b6fc0-c8d7-40be-91cb-22e3c31749bf",
   "metadata": {
    "tags": []
   },
   "outputs": [],
   "source": [
    "## Caso de carga constante uniformemente distribuida p\n",
    "\n",
    "# Flecha w(x,y)_p\n",
    "w_nm_p = 4*p/(np.pi**6*D*Fnm*N*M)*(1-(-1)**N)*(1-(-1)**M)\n",
    "w_xy_p = np.zeros((len(x),len(y))) \n",
    "for i in range(len(n)):\n",
    "    for j in range(len(m)):\n",
    "        w_xy_p += w_nm_p[i,j]*np.sin(n[i]*np.pi*X/a)*np.sin(m[j]*np.pi*Y/b)  \n",
    "            \n",
    "# Giros respecto x e y, respectivamente: theta(x,y)_x_p y theta(x,y)_y_p (descomenta si necesario)\n",
    "theta_y_nm_p = w_nm_p*M*np.pi/b\n",
    "theta_x_nm_p = w_nm_p*N*np.pi/a\n",
    "#theta_y_xy_p = np.zeros((len(x),len(y)))\n",
    "#theta_x_xy_p = np.zeros((len(x),len(y)))\n",
    "#for i in range(len(n)):\n",
    "#    for j in range(len(m)):\n",
    "#        theta_y_xy_p += theta_y_nm_p[i,j]*np.sin(n[i]*np.pi*X/a)*np.cos(m[j]*np.pi*Y/b)\n",
    "#        theta_x_xy_p += theta_x_nm_p[i,j]*np.cos(n[i]*np.pi*X/a)*np.sin(m[j]*np.pi*Y/b)        \n",
    "\n",
    "## Representemos la flecha calculada\n",
    "imag_p = plt.imshow(w_xy_p*1e3, cmap='viridis', interpolation='nearest', extent=[y.min(), y.max(), x.min(), x.max()])\n",
    "plt.suptitle('w(x,y)_p', x=0.57, y=0.95)\n",
    "plt.ylabel('Dimension x') # Nota que los ejes están invertidos para acomodarse a la forma de representar la placa\n",
    "plt.xlabel('Dimension y')\n",
    "plt.gca().invert_yaxis()\n",
    "plt.colorbar(imag_p,label='Flecha (mm)')\n",
    "plt.show()\n",
    "\n",
    "## Evalua la funcion w(x,y)_p en un punto de coordenadas (x_eval,y_eval). Introduce el valor en x_val e y_val\n",
    "x_eval = ...\n",
    "y_eval = ...\n",
    "x_eval_idx = np.argmin(np.abs(x-x_eval))\n",
    "y_eval_idx = np.argmin(np.abs(y-y_eval))\n",
    "w_xy_p_eval = w_xy_p[x_eval_idx,y_eval_idx]\n",
    "print('El valor de la flecha en el punto evaluado', '(', x_eval, ',', y_eval, ')', 'es:', \"{:e}\".format(w_xy_p_eval), 'm')\n",
    "\n",
    "## Encuentra el valor de la flecha máxima en valores absolutos\n",
    "w_xy_p_max = np.abs(w_xy_p).max()\n",
    "print('El valor de la flecha máxima en valor absoluto es:', \"{:e}\".format(w_xy_p_max), 'm')\n",
    "w_xy_p_max_idx = np.abs(w_xy_p).argmax()\n",
    "w_xy_p_max_x_idx,w_xy_p_max_y_idx = np.unravel_index(w_xy_p_max_idx,w_xy_p.shape)\n",
    "w_xy_p_max_x = w_xy_p_max_x_idx*dx\n",
    "w_xy_p_max_y = w_xy_p_max_y_idx*dy\n",
    "print('Las coordenadas (x,y) donde se da el máximo son:', '(', w_xy_p_max_x, ',', w_xy_p_max_y, ') m')"
   ]
  },
  {
   "cell_type": "markdown",
   "id": "3b5226b9-47f7-43bd-b169-78e111fa1a62",
   "metadata": {},
   "source": [
    "<br>"
   ]
  },
  {
   "cell_type": "markdown",
   "id": "1c4d9fc7-7ca0-4bb6-acd4-89f8b5cb43da",
   "metadata": {},
   "source": [
    "**4. Flecha generada por una carga puntual de valor 1 aplicada en un punto ($\\xi$,$\\eta$), es decir, la Función de Green del problema placa K(x,y;$\\xi$,$\\eta$)** \n",
    "(aquí denominada w_xy_K)"
   ]
  },
  {
   "cell_type": "code",
   "execution_count": null,
   "id": "724b57e3-d925-4ba3-aa46-b33fba857406",
   "metadata": {
    "tags": []
   },
   "outputs": [],
   "source": [
    "## Caso de carga puntual de valor 1 aplicada en un punto (xi,eta), es decir, la función de Green del problema placa:\n",
    "\n",
    "# Flecha w(x,y)_K\n",
    "xi = ...\n",
    "eta = ...\n",
    "w_nm_K = 4*1*np.sin(N*np.pi*xi/a)*np.sin(M*np.pi*eta/b)/(np.pi**4*D*Fnm*a*b)\n",
    "w_xy_K = np.zeros((len(x),len(y)))\n",
    "for i in range(len(n)):\n",
    "    for j in range(len(m)):\n",
    "        w_xy_K += w_nm_K[i,j]*np.sin(n[i]*np.pi*X/a)*np.sin(m[j]*np.pi*Y/b)\n",
    "        \n",
    "## Evalua la funcion w(x,y)_K en un punto de coordenadas (x_eval,y_eval)\n",
    "x_eval = ...\n",
    "y_eval = ...\n",
    "x_eval_idx = np.argmin(np.abs(x-x_eval))\n",
    "y_eval_idx = np.argmin(np.abs(y-y_eval))\n",
    "w_xy_K_eval = w_xy_K[x_eval_idx,y_eval_idx]\n",
    "print('El valor de la flecha en el punto evaluado', '(', x_eval, ',', y_eval, ')', 'es:', \"{:e}\".format(w_xy_K_eval), 'm')"
   ]
  },
  {
   "cell_type": "markdown",
   "id": "b2d9607b-df8c-4e6e-9ba9-4cf32e2c4f47",
   "metadata": {
    "tags": []
   },
   "source": [
    "<br>"
   ]
  },
  {
   "cell_type": "markdown",
   "id": "ba65e473-d20f-4e6a-aad8-e328df10ad9e",
   "metadata": {},
   "source": [
    "**5. Cálculo de fuerza reactiva F de un pilar biarticulado bajo el punto central de la placa.**"
   ]
  },
  {
   "cell_type": "code",
   "execution_count": null,
   "id": "e9260af8-b28e-4cbf-9a86-2f06ee2887be",
   "metadata": {},
   "outputs": [],
   "source": [
    "F_pilar = ...\n",
    "print('La fuerza reactiva F en el punto de apoyo de la placa con el pilar biarticulado, es:', \"{:e}\".format(F_pilar), 'N')"
   ]
  },
  {
   "cell_type": "markdown",
   "id": "32b1f095-e356-4adf-954d-f38c6193f2af",
   "metadata": {},
   "source": [
    "<br>"
   ]
  },
  {
   "cell_type": "markdown",
   "id": "ebfb9d98-c7ab-4aae-96bf-f9750b8f2400",
   "metadata": {},
   "source": [
    "**6. Flecha generada por una carga puntual de valor F aplicada en un punto ($\\xi$,$\\eta$)** (aquí denominada w_xy_F)"
   ]
  },
  {
   "cell_type": "code",
   "execution_count": null,
   "id": "5cf235a3-fa5e-4bbb-9ac3-a5158f77f7b3",
   "metadata": {},
   "outputs": [],
   "source": [
    "## Caso de carga puntual de valor F aplicada en un punto (xi,eta):\n",
    "\n",
    "# Flecha w(x,y)_F\n",
    "xi = ...\n",
    "eta = ...\n",
    "F = F_pilar\n",
    "w_nm_F = 4*F*np.sin(N*np.pi*xi/a)*np.sin(M*np.pi*eta/b)/(np.pi**4*D*Fnm*a*b)\n",
    "w_xy_F = np.zeros((len(x),len(y)))\n",
    "for i in range(len(n)):\n",
    "    for j in range(len(m)):\n",
    "        w_xy_F += w_nm_F[i,j]*np.sin(n[i]*np.pi*X/a)*np.sin(m[j]*np.pi*Y/b)\n",
    "\n",
    "## Representemos la flecha calculada\n",
    "imag_F = plt.imshow(w_xy_F*1e3, cmap='viridis', interpolation='nearest', extent=[y.min(), y.max(), x.min(), x.max()])\n",
    "plt.suptitle('w(x,y)_F', x=0.57, y=0.95)\n",
    "plt.ylabel('Dimension x') # Nota que los ejes están invertidos para acomodarse a la forma de representar la placa\n",
    "plt.xlabel('Dimension y')\n",
    "plt.gca().invert_yaxis()\n",
    "plt.colorbar(imag_F,label='Flecha (mm)')\n",
    "plt.show()\n",
    "\n",
    "## Evalua la funcion w(x,y)_F en un punto de coordenadas (x_eval,y_eval). Introduce el valor en x_val e y_val\n",
    "x_eval = ...\n",
    "y_eval = ...\n",
    "x_eval_idx = np.argmin(np.abs(x-x_eval))\n",
    "y_eval_idx = np.argmin(np.abs(y-y_eval))\n",
    "w_xy_F_eval = w_xy_F[x_eval_idx,y_eval_idx]\n",
    "print('El valor de la flecha en el punto evaluado', '(', x_eval, ',', y_eval, ')', 'es:', \"{:e}\".format(w_xy_F_eval), 'm')\n",
    "\n",
    "## Encuentra el valor de la flecha máxima en valores absolutos\n",
    "w_xy_F_max = np.abs(w_xy_F).max()\n",
    "print('El valor de la flecha máxima en valor absoluto es:', \"{:e}\".format(w_xy_F_max), 'm')\n",
    "w_xy_F_max_idx = np.abs(w_xy_F).argmax()\n",
    "w_xy_F_max_x_idx,w_xy_F_max_y_idx = np.unravel_index(w_xy_F_max_idx,w_xy_F.shape)\n",
    "w_xy_F_max_x = w_xy_F_max_x_idx*dx\n",
    "w_xy_F_max_y = w_xy_F_max_y_idx*dy\n",
    "print('Las coordenadas (x,y) donde se da el máximo son:', '(', w_xy_F_max_x, ',', w_xy_F_max_y, ') m')"
   ]
  },
  {
   "cell_type": "markdown",
   "id": "ccf29f69-61be-4b8e-869f-d5152e9541d3",
   "metadata": {},
   "source": [
    "<br>"
   ]
  },
  {
   "cell_type": "markdown",
   "id": "86af3ae3-106a-48d0-8746-61a67e5f29ef",
   "metadata": {},
   "source": [
    "**7. Cálculo de momento flector My(x) en empotramientos de problema simétrico en y = 0 e y = b.**"
   ]
  },
  {
   "cell_type": "code",
   "execution_count": null,
   "id": "58cc1165-7ebe-420b-8d6b-5a6568160c76",
   "metadata": {},
   "outputs": [],
   "source": [
    "# Coeficientes Mn del desarrollo en serie de un momento flector My(x)\n",
    "eta_1 = 0\n",
    "eta_2 = b\n",
    "w_nm_My_x_eta_1_aux = 2*M*np.cos(M*np.pi*eta_1/b)/(b**2*np.pi**3*D*Fnm)\n",
    "w_nm_My_x_eta_2_aux = 2*M*np.cos(M*np.pi*eta_2/b)/(b**2*np.pi**3*D*Fnm)\n",
    "theta_y_nm_My_x_eta_1_aux = w_nm_My_x_eta_1_aux*M*np.pi/b\n",
    "theta_y_nm_My_x_eta_2_aux = w_nm_My_x_eta_2_aux*M*np.pi/b\n",
    "\n",
    "# Introduce aquí la suma de los theta_y_nm de los casos de carga que actuan simultáneamente con los momentos empotramiento y que no son incognita\n",
    "theta_y_nm_input = ... # por ejemplo: theta_y_nm_K (este theta_y_nm puede no ser el correcto para tu caso)\n",
    "\n",
    "# Cálculo de los términos del desarrollo en serie de Fourir del momento flector My(x) distribuido en el empotramiento\n",
    "Mn = -np.sum(theta_y_nm_input,axis=1)/(np.sum(theta_y_nm_My_x_eta_1_aux,axis=1) - np.sum(theta_y_nm_My_x_eta_2_aux,axis=1))\n",
    "\n",
    "# Desarrollo en serie del momento flector My(x) en el empotramiento\n",
    "My_x_eta_1 = np.zeros(len(x))\n",
    "My_x_eta_2 = np.zeros(len(x))\n",
    "for i in range(len(n)):\n",
    "    My_x_eta_1 += Mn[i]*np.sin(n[i]*np.pi*x/a)\n",
    "    My_x_eta_2 -= Mn[i]*np.sin(n[i]*np.pi*x/a)\n",
    "\n",
    "# Grafica el momento My(x) distribuido en los empotramientos\n",
    "plt.plot(x, My_x_eta_1/1e3, label='My(x) en y = 0')\n",
    "plt.plot(x, My_x_eta_2/1e3, label='My(x) en y = b')\n",
    "plt.xlabel('Dimension x')\n",
    "plt.ylabel('My(x) [kNm)]')\n",
    "plt.title('Momento flector My(x) en los bordes empotrados')\n",
    "plt.legend()\n",
    "plt.show()"
   ]
  },
  {
   "cell_type": "markdown",
   "id": "294eadc9-60e4-4a48-bcc2-c316e3cbd780",
   "metadata": {},
   "source": [
    "<br>"
   ]
  },
  {
   "cell_type": "markdown",
   "id": "c3b56596-c938-49ea-a703-9bb1acaae21b",
   "metadata": {},
   "source": [
    "**8. Cálculo de momento flector Mx(y) en empotramientos de problema simétrico en x = 0 e x = a.**"
   ]
  },
  {
   "cell_type": "code",
   "execution_count": null,
   "id": "7562cc80-bb8c-4858-bfc0-06b71d6065ed",
   "metadata": {},
   "outputs": [],
   "source": [
    "# Coeficientes Mm del desarrollo en serie de un momento flector Mx(y)\n",
    "xi_1 = 0\n",
    "xi_2 = a\n",
    "w_nm_Mx_y_xi_1_aux = 2*N*np.cos(N*np.pi*xi_1/a)/(a**2*np.pi**3*D*Fnm)\n",
    "w_nm_Mx_y_xi_2_aux = 2*N*np.cos(N*np.pi*xi_2/a)/(a**2*np.pi**3*D*Fnm)\n",
    "theta_x_nm_Mx_y_xi_1_aux = w_nm_Mx_y_xi_1_aux*N*np.pi/a\n",
    "theta_x_nm_Mx_y_xi_2_aux = w_nm_Mx_y_xi_2_aux*N*np.pi/a\n",
    "\n",
    "# Introduce aquí la suma de los theta_x_nm de los casos de carga que actuan simultáneamente con los momentos empotramiento y que no son incognita\n",
    "theta_x_nm_input = ... # por ejemplo: theta_x_nm_K (este theta_x_nm puede no ser el correcto para tu caso)\n",
    "\n",
    "# Cálculo de los términos del desarrollo en serie de Fourir del momento flector Mx(y) distribuido en el empotramiento\n",
    "Mm = -np.sum(theta_x_nm_input,axis=0)/(np.sum(theta_x_nm_Mx_y_xi_1_aux,axis=0) - np.sum(theta_x_nm_Mx_y_xi_2_aux,axis=0))\n",
    "\n",
    "# Desarrollo en serie del momento flector Mx(y) en el empotramiento\n",
    "Mx_y_xi_1 = np.zeros(len(y))\n",
    "Mx_y_xi_2 = np.zeros(len(y))\n",
    "for j in range(len(m)):\n",
    "    Mx_y_xi_1 += Mm[j]*np.sin(m[j]*np.pi*y/b)\n",
    "    Mx_y_xi_2 -= Mm[j]*np.sin(m[j]*np.pi*y/b)\n",
    "    \n",
    "# Grafica el momento My(x) distribuido en los empotramientos\n",
    "plt.plot(y, Mx_y_xi_1/1e3, label='Mx(y) en x = 0')\n",
    "plt.plot(y, Mx_y_xi_2/1e3, label='Mx(y) en x = a')\n",
    "plt.xlabel('Dimension y')\n",
    "plt.ylabel('Mx(y) [kNm)]')\n",
    "plt.title('Momento flector Mx(y) en los bordes empotrados')\n",
    "plt.legend()\n",
    "plt.show()"
   ]
  },
  {
   "cell_type": "markdown",
   "id": "4bc515e4-f933-4db1-a61b-9832fcb67687",
   "metadata": {},
   "source": [
    "<br>"
   ]
  },
  {
   "cell_type": "markdown",
   "id": "1682e283-e966-432d-adcc-234e838a2f04",
   "metadata": {},
   "source": [
    "**9. Flecha generada por momentos flectores Mx(y) en sendos lados empotrados x = 0 y x = a** \n",
    "Nota: puedes graficar por separado la flecha que generan los momentos flectores de los empotramientos por separado para entender mejor la placa biempotrada. La celda del cálculo no tiene código para encontrar el valor de la flecha máxima y donde se da, pero puedes copiarlo y modificarlo de otra celda que si lo tenga, por ejemplo, del caso de una carga constante uniforme w(x,y)_p"
   ]
  },
  {
   "cell_type": "code",
   "execution_count": null,
   "id": "c1d40a5f-be62-44e4-9eec-95cb26bec02b",
   "metadata": {},
   "outputs": [],
   "source": [
    "#Flecha debido a Mx(y) en línea x = xi_1: w(x,y)_Mx_y_xi_1\n",
    "xi_1 = 0\n",
    "w_nm_Mx_y_xi_1 = 2*N*np.tile(Mm,(len(n),1))*np.cos(N*np.pi*xi_1/a)/(a**2*np.pi**3*D*Fnm)\n",
    "w_xy_Mx_y_xi_1 = np.zeros((len(x), len(y)))\n",
    "\n",
    "#Flecha debido a Mx(y) en línea x = xi_2: w(x,y)_Mx_y_xi_2\n",
    "xi_2 = a\n",
    "w_nm_Mx_y_xi_2 = 2*N*np.tile(-Mm,(len(n),1))*np.cos(N*np.pi*xi_2/a)/(a**2*np.pi**3*D*Fnm)\n",
    "w_xy_Mx_y_xi_2 = np.zeros((len(x), len(y)))\n",
    "for i in range(len(n)):\n",
    "    for j in range(len(m)):\n",
    "        w_xy_Mx_y_xi_1 += w_nm_Mx_y_xi_1[i,j]*np.sin(n[i]*np.pi*X/a)*np.sin(m[j]*np.pi*Y/b)\n",
    "        w_xy_Mx_y_xi_2 += w_nm_Mx_y_xi_2[i,j]*np.sin(n[i]*np.pi*X/a)*np.sin(m[j]*np.pi*Y/b)\n",
    "            \n",
    "#Flecha total debida a los dos momentos Mx(y) actuando en sendos bordes empotrados al mismo tiempo:\n",
    "w_xy_Mx_y_emp = w_xy_Mx_y_xi_1 + w_xy_Mx_y_xi_2\n",
    "\n",
    "## Representemos la flecha calculada\n",
    "imag_Mx_y_emp = plt.imshow(w_xy_Mx_y_emp*1e3, cmap='viridis', interpolation='nearest', extent=[y.min(), y.max(), x.min(), x.max()])\n",
    "plt.suptitle('w(x,y)_Mx_y_emp', x=0.57, y=0.95)\n",
    "plt.ylabel('Dimension x') # Nota que los ejes están invertidos para acomodarse a la forma de representar la placa\n",
    "plt.xlabel('Dimension y')\n",
    "plt.gca().invert_yaxis()\n",
    "plt.colorbar(imag_Mx_y_emp,label='Flecha (mm)')\n",
    "plt.show()"
   ]
  },
  {
   "cell_type": "markdown",
   "id": "d25b0704-63ed-4fd3-959e-2132b0dd4bed",
   "metadata": {},
   "source": [
    "<br>"
   ]
  },
  {
   "cell_type": "markdown",
   "id": "1f32b09d-73a2-4c0b-bf15-40eea9661981",
   "metadata": {},
   "source": [
    "**10. Flecha generada por momentos flectores My(x) en sendos lados empotrados y = 0 e y = b** \n",
    "Nota: puedes graficar por separado la flecha que generan los momentos flectores de los empotramientos por separado para entender mejor la placa biempotrada. La celda del cálculo no tiene código para encontrar el valor de la flecha máxima y donde se da, pero puedes copiarlo y modificarlo de otra celda que si lo tenga, por ejemplo, del caso de una carga constante uniforme w(x,y)_p"
   ]
  },
  {
   "cell_type": "code",
   "execution_count": null,
   "id": "155c4c19-7122-464c-8d82-f085dcea780e",
   "metadata": {
    "tags": []
   },
   "outputs": [],
   "source": [
    "#Flecha debido a My(x) en línea y = eta_1: w(x,y)_My_x_eta_1\n",
    "eta_1 = 0\n",
    "Mn_aux = np.array(Mn).reshape(len(m),1)\n",
    "w_nm_My_x_eta_1 = 2*M*np.tile(Mn_aux,(1,len(m)))*np.cos(M*np.pi*eta_1/b)/(b**2*np.pi**3*D*Fnm)\n",
    "w_xy_My_x_eta_1 = np.zeros((len(x), len(y)))\n",
    "\n",
    "#Flecha debido a My(x) en línea y = eta_2: w(x,y)_My_x_eta_2\n",
    "eta_2 = b\n",
    "w_nm_My_x_eta_2 = 2*M*np.tile(-Mn_aux,(1,len(m)))*np.cos(M*np.pi*eta_2/b)/(b**2*np.pi**3*D*Fnm)\n",
    "w_xy_My_x_eta_2 = np.zeros((len(x), len(y)))\n",
    "\n",
    "for i in range(len(n)):\n",
    "    for j in range(len(m)):\n",
    "        w_xy_My_x_eta_1 += w_nm_My_x_eta_1[i,j]*np.sin(n[i]*np.pi*X/a)*np.sin(m[j]*np.pi*Y/b)\n",
    "        w_xy_My_x_eta_2 += w_nm_My_x_eta_2[i,j]*np.sin(n[i]*np.pi*X/a)*np.sin(m[j]*np.pi*Y/b)\n",
    "        \n",
    "#Flecha total debida a los dos momentos Mx(y) actuando en sendos bordes empotrados al mismo tiempo:\n",
    "w_xy_My_x_emp = w_xy_My_x_eta_1 + w_xy_My_x_eta_2\n",
    "\n",
    "## Representemos la flecha calculada\n",
    "imag_My_x_emp = plt.imshow(w_xy_My_x_emp*1e3, cmap='viridis', interpolation='nearest', extent=[y.min(), y.max(), x.min(), x.max()])\n",
    "plt.suptitle('w(x,y)_My_x_emp', x=0.57, y=0.95)\n",
    "plt.ylabel('Dimension x') # Nota que los ejes están invertidos para acomodarse a la forma de representar la placa\n",
    "plt.xlabel('Dimension y')\n",
    "plt.gca().invert_yaxis()\n",
    "plt.colorbar(imag_My_x_emp,label='Flecha (mm)')\n",
    "plt.show()\n"
   ]
  }
 ],
 "metadata": {
  "kernelspec": {
   "display_name": "Python 3 (ipykernel)",
   "language": "python",
   "name": "python3"
  },
  "language_info": {
   "codemirror_mode": {
    "name": "ipython",
    "version": 3
   },
   "file_extension": ".py",
   "mimetype": "text/x-python",
   "name": "python",
   "nbconvert_exporter": "python",
   "pygments_lexer": "ipython3",
   "version": "3.9.12"
  }
 },
 "nbformat": 4,
 "nbformat_minor": 5
}
