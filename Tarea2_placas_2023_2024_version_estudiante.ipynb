{
 "cells": [
  {
   "cell_type": "markdown",
   "id": "20b1d2bb-a483-4eea-b613-ffa2f6b94390",
   "metadata": {},
   "source": [
    "### <center>Amplicación de análisis de estructuras. Máster Universitario en Ingeniería de Caminos, Canales y Puertos. Universidad de Granada. Curso 2023-2024<center>"
   ]
  },
  {
   "cell_type": "markdown",
   "id": "325e5f91-8248-4bc1-bf30-4796721e8acf",
   "metadata": {},
   "source": [
    "# <center>Software para la resolución numérica del Problema de Placas Rectangulares mediante el Método de Levy.<center>"
   ]
  },
  {
   "cell_type": "markdown",
   "id": "173a9b1a-338e-4e71-8317-2053f90c1dc2",
   "metadata": {},
   "source": [
    "#### <center>Antonio Gomez. Marzo 2024<center>"
   ]
  },
  {
   "cell_type": "markdown",
   "id": "46c73b71-e49b-4cc0-9a39-b438f8d0b981",
   "metadata": {
    "tags": []
   },
   "source": [
    "Este script de Jupyter lab contiene una serie de algoritmos escritos en lenguaje Python para calcular y evaluar la flecha w(x,y) mediante el método de Levy para poder resolver la tarea adjunta.\n",
    "\n",
    "Los casos disponibles de resolución son los de:\n",
    "- Pacla tetrapoyada con carga uniforme de valor p.\n",
    "<img src=\"carga_uniforme.png\" alt=\"Texto alternativo\" width=\"400\">\n",
    "\n",
    "- Placa tetrapoyada con carga de ley lineal antimétrica de valor máximo q.\n",
    "<img src=\"carga_lineal_x.png\" alt=\"Texto alternativo\" width=\"400\">\n",
    "\n",
    "Tendrás que superponer flechas debidas a diferentes estados de carga para resolver las preguntas de la tarea. Superponer flechas significa sumar matrices de flechas w_xy debidas a los diferentes estados de carga involucrados en tu caso."
   ]
  },
  {
   "cell_type": "markdown",
   "id": "b51cab6e-e0f1-4f40-a3fb-3a6ef4e59abd",
   "metadata": {},
   "source": [
    "**Índice:**\n",
    "1. Importamos las librerías necesarias\n",
    "2. Datos de entrada\n",
    "3. Flecha generada en placa tetrapoyada por una carga uniforme de valor p w<sup>S</sup><sub>p</sub>(x,y)\n",
    "4. Flecha generada en placa tetrapoyada por una carga lineal de valor máximo q w<sup>A</sup><sub>q</sub>(x,y)\n"
   ]
  },
  {
   "cell_type": "markdown",
   "id": "25b6801f-cf92-45c3-af24-680578bb95ef",
   "metadata": {},
   "source": [
    "<br>"
   ]
  },
  {
   "cell_type": "markdown",
   "id": "e95af83d-3981-4ce2-9fce-bdf187e0942e",
   "metadata": {},
   "source": [
    "**1. Importamos las librerías necesarias**"
   ]
  },
  {
   "cell_type": "code",
   "execution_count": null,
   "id": "549ad681-4ddc-4d3b-b9bc-2eef5ec19b82",
   "metadata": {},
   "outputs": [],
   "source": [
    "import numpy as np\n",
    "import matplotlib.pyplot as plt\n",
    "import math"
   ]
  },
  {
   "cell_type": "markdown",
   "id": "3c9ebf98-88de-4c23-a611-f370b19eab74",
   "metadata": {},
   "source": [
    "<br>"
   ]
  },
  {
   "cell_type": "markdown",
   "id": "cbedd334-d465-4c22-9efe-8a540716cc9b",
   "metadata": {},
   "source": [
    "**2. Datos de entrada** (Introducir unidades en el sistema internacional)"
   ]
  },
  {
   "cell_type": "code",
   "execution_count": null,
   "id": "79275d02-8f37-419f-8981-fd14175465ed",
   "metadata": {
    "tags": []
   },
   "outputs": [],
   "source": [
    "# Datos de la placa:\n",
    "a = ...\n",
    "b = ...\n",
    "h = ...\n",
    "rho_placa = ...\n",
    "nu = ...\n",
    "E = ...\n",
    "I = h**3/12\n",
    "D = E*I/(1-nu**2)\n",
    "\n",
    "# Datos del sensor: coordenadas x,y del sensor\n",
    "x_sensor = ...\n",
    "y_sensor = ...\n",
    "\n",
    "# Carga uniforme:\n",
    "p = ... #Cuidado, si la carga es hacia abajo hay que indicar signo negativo\n",
    "\n",
    "# Carga lineal, valor máximo:\n",
    "q = ... #Cuidado, si la carga es hacia abajo hay que indicar signo negativo\n",
    "\n",
    "# Valores de discretización espacial\n",
    "dx = 2e-2\n",
    "dy = 2e-2\n",
    "\n",
    "# Recuerda que en Python, el primer elemento de un vector tiene indice 0. Igual en una matriz, donde su primer elemento es el (0,0)\n",
    "# Recuerda que puedes usar la función print() para ver el valor de alguna variable.\n",
    "# Puedes también usar la función np.shape() para ver el tamaño de matrices, o alternativamente la funcion np.size(\"matrix\",0), 0 para la dimensión filas y 1 para la dimensión 1.\n",
    "# La funcion len() para saber la longitud de un vector."
   ]
  },
  {
   "cell_type": "markdown",
   "id": "783be38b-5917-4d19-b221-f0bd97cdbd5f",
   "metadata": {
    "tags": []
   },
   "source": [
    "Discretización del dominio espacial de la placa"
   ]
  },
  {
   "cell_type": "code",
   "execution_count": null,
   "id": "d42e8362-c689-496a-9075-d37759687cc9",
   "metadata": {
    "tags": []
   },
   "outputs": [],
   "source": [
    "# Creamos dos vectores x e y, que contienen los valores discretos del espacio donde se evaluaran los cálculos\n",
    "x = np.arange(-a/2, a/2+dx, dx) \n",
    "y = np.arange(0, b+dy, dy)"
   ]
  },
  {
   "cell_type": "markdown",
   "id": "957af976-8e3d-4610-b39e-5241cceec0f3",
   "metadata": {},
   "source": [
    "Declaración de terminos de los sumatorios"
   ]
  },
  {
   "cell_type": "code",
   "execution_count": null,
   "id": "1144a775-11ae-47bc-b3e1-4c937aa2a4f7",
   "metadata": {
    "tags": []
   },
   "outputs": [],
   "source": [
    "# Creamos un vector de enteros n\n",
    "nmax = 3\n",
    "nmaxreal = nmax if nmax % 2 != 0 else nmax + 1 # sí nmax es par, haz que el nmaxreal sea el siguiente impar\n",
    "n = np.arange(1,nmaxreal+1,2) #vector de 1 a nmax con incrementos de 2, es decir, solo impares\n",
    "\n",
    "# Definimos el número de elementos n y m a evaluar\n",
    "neval = nmaxreal\n",
    "\n",
    "# Esto es un mensaje de error en caso de indicar neval y meval mayores que los máximos preestablecidos.\n",
    "if neval > nmaxreal:\n",
    "    raise ValueError('El número máximo de n a evaluar introducido es mayor que el n máximo preestablecido. Introduce un número n a evaluar menor.')\n",
    "\n",
    "# Creamos dos matrices N y X, de forma que seleccionando un mismo elemento en ambas tenemos una dupla n,x\n",
    "N, X = np.meshgrid(n, x)\n",
    "\n",
    "# Calculamos las constantes de Levy $\\lambda_n$ y $\\alpha_n$\n",
    "lambda_n = N*np.pi/b\n",
    "alpha_n = lambda_n*a/2"
   ]
  },
  {
   "cell_type": "markdown",
   "id": "e62728bd-d6ab-4a4d-8a64-2ec669295985",
   "metadata": {},
   "source": [
    "<br>"
   ]
  },
  {
   "cell_type": "markdown",
   "id": "779a84e7-4f93-4902-9fe8-79260c014538",
   "metadata": {
    "tags": []
   },
   "source": [
    "**3. Flecha generada en placa tetrapoyada por una carga uniforme de valor p w<sup>S</sup><sub>p</sub>(x,y)** (aquí denominada w_S_xy)"
   ]
  },
  {
   "cell_type": "code",
   "execution_count": null,
   "id": "d46b6fc0-c8d7-40be-91cb-22e3c31749bf",
   "metadata": {
    "tags": []
   },
   "outputs": [],
   "source": [
    "## Flecha para caso de carga constante uniformemente distribuida p\n",
    "\n",
    "#p = 1  # Haz p=1 si estás usando esta celda en una fase de cálculo de la densidad del material granular, en cualquier otro caso, deja esta\n",
    "        # línea comentada para que el valor de p guardado en memoria al principio del script sea el utilizado para el cálculo de la flecha\n",
    "    \n",
    "\n",
    "# Solución de la EDO homogénea wn_S_h(x)\n",
    "Bn = 2*p/(b*D*lambda_n**5*np.cosh(alpha_n))\n",
    "Cn = -Bn*(2+alpha_n*np.tanh(alpha_n))\n",
    "wn_S_h = Bn*lambda_n*X*np.sinh(lambda_n*X) + Cn*np.cosh(lambda_n*X)\n",
    "\n",
    "# Solución de la EDO particular wn_S_p(x)\n",
    "wn_S_p = 4*p/(b*D*lambda_n**5)\n",
    "\n",
    "# Solución general de los términos w_S(x) de la serie de Levy\n",
    "wn_S = wn_S_h + wn_S_p\n",
    "\n",
    "# Flecha w_S_xy_P\n",
    "w_S_xy = np.zeros((len(x), len(y)))\n",
    "for j in range(len(y)):\n",
    "    w_S_xy[:, j] = np.sum(wn_S*np.sin(lambda_n*y[j]), axis=1)\n",
    "\n",
    "## Representemos la flecha calculada\n",
    "imag_S = plt.imshow(w_S_xy*1e3, cmap='viridis', interpolation='nearest', extent=[y.min(), y.max(), x.max(), x.min()])\n",
    "plt.suptitle('w(x,y)_S', x=0.57, y=0.95)\n",
    "plt.ylabel('Dimension x') # Nota que los ejes están invertidos para acomodarse a la forma de representar la placa\n",
    "plt.xlabel('Dimension y')\n",
    "plt.colorbar(imag_S,label='Flecha (mm)')\n",
    "plt.show()\n",
    "\n",
    "## Evalua la funcion w(x,y)_S en un punto de coordenadas (x_eval,y_eval). Introduce el valor en x_val e y_val\n",
    "x_eval = ...\n",
    "y_eval = ...\n",
    "x_eval_idx = np.argmin(np.abs(x-x_eval))\n",
    "y_eval_idx = np.argmin(np.abs(y-y_eval))\n",
    "w_S_xy_eval = w_S_xy[x_eval_idx,y_eval_idx]\n",
    "print('El valor de la flecha en el punto evaluado', '(', x_eval, ',', y_eval, ')', 'es:', \"{:e}\".format(w_S_xy_eval), 'm')"
   ]
  },
  {
   "cell_type": "markdown",
   "id": "3b5226b9-47f7-43bd-b169-78e111fa1a62",
   "metadata": {},
   "source": [
    "<br>"
   ]
  },
  {
   "cell_type": "markdown",
   "id": "1c4d9fc7-7ca0-4bb6-acd4-89f8b5cb43da",
   "metadata": {},
   "source": [
    "**4. Flecha generada en placa tetrapoyada por una carga lineal de valor máximo q, w<sup>A</sup><sub>q</sub>(x,y)** \n",
    "(aquí denominada w_A_xy)"
   ]
  },
  {
   "cell_type": "code",
   "execution_count": null,
   "id": "724b57e3-d925-4ba3-aa46-b33fba857406",
   "metadata": {
    "tags": []
   },
   "outputs": [],
   "source": [
    "## Flecha para caso de carga lineal de valor máximo q\n",
    "\n",
    "#q = 1  # Haz q=1 si estás usando esta celda en una fase de cálculo de la densidad del material granular, en cualquier otro caso, deja esta\n",
    "        # línea comentada para que el valor de p guardado en memoria al principio del script sea el utilizado para el cálculo de la flecha\n",
    "\n",
    "# Solución de la EDO homogénea wn_A_h(x)\n",
    "Dn = 2*q/(b*D*lambda_n**5*np.sinh(alpha_n))\n",
    "An = -Dn*(2+alpha_n*(1/np.tanh(alpha_n)))\n",
    "wn_A_h = An*np.sinh(lambda_n*X) + Dn*lambda_n*X*np.cosh(lambda_n*X)\n",
    "\n",
    "# Solución de la EDO particular wn_A_p(x)\n",
    "wn_A_p = 8*q*X/(a*b*D*lambda_n**5)\n",
    "\n",
    "# Solución general de los términos w_A(x) de la serie de Levy\n",
    "wn_A = wn_A_h + wn_A_p\n",
    "\n",
    "# Flecha w_A_xy_q\n",
    "w_A_xy = np.zeros((len(x), len(y)))\n",
    "for j in range(len(y)):\n",
    "    w_A_xy[:, j] = np.sum(wn_A*np.sin(lambda_n*y[j]), axis=1)\n",
    "\n",
    "## Representemos la flecha calculada\n",
    "imag_A = plt.imshow(w_A_xy*1e3, cmap='viridis', interpolation='nearest', extent=[y.min(), y.max(), x.max(), x.min()])\n",
    "plt.suptitle('w(x,y)_A', x=0.57, y=0.95)\n",
    "plt.ylabel('Dimension x') # Nota que los ejes están invertidos para acomodarse a la forma de representar la placa\n",
    "plt.xlabel('Dimension y')\n",
    "plt.colorbar(imag_A,label='Flecha (mm)')\n",
    "plt.show()\n",
    "\n",
    "## Evalua la funcion w(x,y)_A en un punto de coordenadas (x_eval,y_eval). Introduce el valor en x_val e y_val\n",
    "x_eval = ...\n",
    "y_eval = ...\n",
    "x_eval_idx = np.argmin(np.abs(x-x_eval))\n",
    "y_eval_idx = np.argmin(np.abs(y-y_eval))\n",
    "w_A_xy_eval = w_A_xy[x_eval_idx,y_eval_idx]\n",
    "print('El valor de la flecha en el punto evaluado', '(', x_eval, ',', y_eval, ')', 'es:', \"{:e}\".format(w_A_xy_eval), 'm')\n",
    "\n",
    "## Encuentra el valor de la flecha máxima en valores absolutos\n",
    "w_max = np.abs(w_A_xy).max()\n",
    "print('El valor de la flecha máxima en valor absoluto es:', \"{:e}\".format(w_max), 'm')\n",
    "w_max_idx = np.abs(w_A_xy).argmax()\n",
    "w_max_x_idx,w_max_y_idx = np.unravel_index(w_max_idx,w_A_xy.shape)\n",
    "w_max_x = w_max_x_idx*dx\n",
    "w_max_y = w_max_y_idx*dy\n",
    "print('Las coordenadas (x,y) donde se da el máximo son:', '(', w_max_x, ',', w_max_y, ') m')"
   ]
  },
  {
   "cell_type": "markdown",
   "id": "5dcc1f7f-3770-4622-892c-9bfac7779417",
   "metadata": {},
   "source": [
    "<br>"
   ]
  },
  {
   "cell_type": "markdown",
   "id": "bd29d1be-c50c-452e-8450-f0b8302c197c",
   "metadata": {},
   "source": [
    "**5. Flecha final como suma de los estados simétrico y antimétrico**"
   ]
  },
  {
   "cell_type": "code",
   "execution_count": null,
   "id": "efb84ec0-0b88-4cb7-9294-5c08a84bf7b3",
   "metadata": {},
   "outputs": [],
   "source": [
    "# Flecha total w(xy) como suma de las flechas de los estados simétrico y antimétrico\n",
    "w_xy = w_S_xy + w_A_xy\n",
    "\n",
    "## Representemos la flecha calculada\n",
    "imag = plt.imshow(w_xy, cmap='viridis', interpolation='nearest', extent=[y.min(), y.max(), x.max(), x.min()])\n",
    "plt.suptitle('w(x,y)', x=0.57, y=0.95)\n",
    "plt.ylabel('Dimension x') # Nota que los ejes están invertidos para acomodarse a la forma de representar la placa\n",
    "plt.xlabel('Dimension y')\n",
    "plt.colorbar(imag,label='Flecha (mm)')\n",
    "plt.show()\n",
    "\n",
    "## Evalua la funcion w(x,y)_A_q en un punto de coordenadas (x_eval,y_eval). Introduce el valor en x_val e y_val\n",
    "x_eval = ...\n",
    "y_eval = ...\n",
    "x_eval_idx = np.argmin(np.abs(x-x_eval))\n",
    "y_eval_idx = np.argmin(np.abs(y-y_eval))\n",
    "w_xy_eval = w_xy[x_eval_idx,y_eval_idx]\n",
    "print('El valor de la flecha en el punto evaluado', '(', x_eval, ',', y_eval, ')', 'es:', \"{:e}\".format(w_xy_eval), 'm')"
   ]
  }
 ],
 "metadata": {
  "kernelspec": {
   "display_name": "Python 3 (ipykernel)",
   "language": "python",
   "name": "python3"
  },
  "language_info": {
   "codemirror_mode": {
    "name": "ipython",
    "version": 3
   },
   "file_extension": ".py",
   "mimetype": "text/x-python",
   "name": "python",
   "nbconvert_exporter": "python",
   "pygments_lexer": "ipython3",
   "version": "3.9.12"
  }
 },
 "nbformat": 4,
 "nbformat_minor": 5
}
